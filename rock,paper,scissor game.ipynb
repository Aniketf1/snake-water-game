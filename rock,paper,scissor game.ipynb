{
 "cells": [
  {
   "cell_type": "code",
   "execution_count": 1,
   "metadata": {},
   "outputs": [
    {
     "name": "stdout",
     "output_type": "stream",
     "text": [
      "comp:turn snake(s) water(w) or gun(g)\n",
      "your:turn snake(s) water(w) or gun(g)?w\n",
      "comp choice is s\n",
      "your choice is w\n",
      "you lose\n"
     ]
    }
   ],
   "source": [
    "import random\n",
    "def gamewin(comp,you):\n",
    "    if comp==you:\n",
    "        return None\n",
    "    \n",
    "    if comp=='s':\n",
    "        if you=='w':\n",
    "            return False\n",
    "        elif you=='g':\n",
    "            return True\n",
    "    if comp=='w':\n",
    "        if you=='g':\n",
    "            return False\n",
    "        elif you=='s':\n",
    "            return True\n",
    "    if comp=='g':\n",
    "        if you=='s':\n",
    "            return False\n",
    "        elif you=='w':\n",
    "            return True    \n",
    "        \n",
    "print(\"comp:turn snake(s) water(w) or gun(g)\")\n",
    "you=input(\"your:turn snake(s) water(w) or gun(g)?\")\n",
    "randno=random.randint(1,3)\n",
    "if randno==1:\n",
    "        comp='s'\n",
    "elif randno==2:\n",
    "        comp='w'\n",
    "else:\n",
    "        comp='g'\n",
    "        \n",
    "print(f\"comp choice is {comp}\")\n",
    "print(f\"your choice is {you}\")\n",
    "a=gamewin(comp,you)\n",
    "if a==None:\n",
    "    print(\"the game is tie\")\n",
    "elif a:\n",
    "    print(\"you win\")\n",
    "else:\n",
    "    print(\"you lose\")\n",
    "\n"
   ]
  },
  {
   "cell_type": "code",
   "execution_count": 6,
   "metadata": {},
   "outputs": [
    {
     "name": "stdout",
     "output_type": "stream",
     "text": [
      "comp's turn: snake(s),water(w),gun(g)\n",
      "your's turn: snake(s),water(w),gun(g)s\n",
      "you lose\n",
      "your choice is w\n",
      "comp choice is s\n"
     ]
    }
   ],
   "source": [
    "import random\n",
    "def gameWin(you,comp):\n",
    "    if comp==you:\n",
    "        return None\n",
    "    elif comp=='s':\n",
    "        if you=='g':\n",
    "            return True\n",
    "        elif you=='w':\n",
    "            return False\n",
    "    elif comp=='w':\n",
    "        if you=='s':\n",
    "            return True\n",
    "        elif you=='g':\n",
    "            return False\n",
    "    elif comp=='g':\n",
    "        if you=='s':\n",
    "            return True\n",
    "        elif you=='w':\n",
    "            return False\n",
    "        \n",
    "        \n",
    "randNo=random.randint(1,3)\n",
    "print(\"comp's turn: snake(s),water(w),gun(g)\")\n",
    "input(\"your's turn: snake(s),water(w),gun(g)\")\n",
    "if randNo==1:\n",
    "    comp='s'\n",
    "elif randNo==2:\n",
    "    comp='w'\n",
    "elif randNo==3:\n",
    "    comp='g'\n",
    "a=gameWin(you,comp)\n",
    "if a==None:\n",
    "    print(\"the game is tie\")\n",
    "    \n",
    "elif a==True:\n",
    "    print(\"you win\")\n",
    "else:\n",
    "    print(\"you lose\")\n",
    "print(f\"your choice is {you}\")\n",
    "print(f\"comp choice is {comp}\")\n"
   ]
  },
  {
   "cell_type": "code",
   "execution_count": null,
   "metadata": {},
   "outputs": [],
   "source": []
  }
 ],
 "metadata": {
  "kernelspec": {
   "display_name": "Python 3",
   "language": "python",
   "name": "python3"
  },
  "language_info": {
   "codemirror_mode": {
    "name": "ipython",
    "version": 3
   },
   "file_extension": ".py",
   "mimetype": "text/x-python",
   "name": "python",
   "nbconvert_exporter": "python",
   "pygments_lexer": "ipython3",
   "version": "3.7.6"
  }
 },
 "nbformat": 4,
 "nbformat_minor": 4
}
